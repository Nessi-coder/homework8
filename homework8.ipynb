{
 "cells": [
  {
   "cell_type": "code",
   "execution_count": 1,
   "id": "327cbb54-8003-4507-99f6-8ec42c61c87c",
   "metadata": {},
   "outputs": [
    {
     "name": "stdout",
     "output_type": "stream",
     "text": [
      "Оптимальное значение x: 6.096\n",
      "Значение функции потерь в оптимальной точке: 18.777216000000003\n"
     ]
    }
   ],
   "source": [
    "import numpy as np\n",
    "import matplotlib.pyplot as plt\n",
    "\n",
    "# Функция потерь\n",
    "def loss_function(x):\n",
    "    return x**2 - 4*x + 6\n",
    "\n",
    "\n",
    "# Производная функции потерь\n",
    "def gradient(x):\n",
    "    return 2*x - 4\n",
    "\n",
    "# Градиентный спуск\n",
    "def gradient_descent(starting_point, learning_rate, iterations):\n",
    "    x = starting_point\n",
    "    trajectory = [x]  # Для сохранения пути оптимизации\n",
    "    for _ in range(iterations):\n",
    "        grad = gradient(x)  # Вычисляем градиент\n",
    "        x = x - learning_rate * grad  # Обновляем параметр\n",
    "        trajectory.append(x)\n",
    "    return x, trajectory\n",
    "\n",
    "# Начальные параметры\n",
    "starting_point = 10  # Начальное значение x\n",
    "learning_rate = 0.1  # Скорость обучения\n",
    "iterations = 3  # Количество итераций\n",
    "\n",
    "# Выполняем градиентный спуск\n",
    "optimal_x, trajectory = gradient_descent(starting_point, learning_rate, iterations)\n",
    "\n",
    "# Печатаем результаты\n",
    "print(f\"Оптимальное значение x: {optimal_x}\")\n",
    "print(f\"Значение функции потерь в оптимальной точке: {loss_function(optimal_x)}\")"
   ]
  }
 ],
 "metadata": {
  "kernelspec": {
   "display_name": "Python 3 (ipykernel)",
   "language": "python",
   "name": "python3"
  },
  "language_info": {
   "codemirror_mode": {
    "name": "ipython",
    "version": 3
   },
   "file_extension": ".py",
   "mimetype": "text/x-python",
   "name": "python",
   "nbconvert_exporter": "python",
   "pygments_lexer": "ipython3",
   "version": "3.11.7"
  }
 },
 "nbformat": 4,
 "nbformat_minor": 5
}
